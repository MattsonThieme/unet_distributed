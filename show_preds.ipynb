{
 "cells": [
  {
   "cell_type": "code",
   "execution_count": 63,
   "metadata": {},
   "outputs": [
    {
     "name": "stdout",
     "output_type": "stream",
     "text": [
      "('Max of all slices = ', 3.0408307e-06)\n",
      "('Max slice = ', 0)\n",
      "('msk amax', 1)\n",
      "('pred amax', 0.71375394)\n",
      "(154, 240, 240, 4)\n",
      "(154, 1, 1, 128, 128, 1)\n"
     ]
    },
    {
     "data": {
      "image/png": "[encoded data removed]",
      "text/plain": [
       "<matplotlib.figure.Figure at 0x110c109d0>"
      ]
     },
     "metadata": {},
     "output_type": "display_data"
    },
    {
     "data": {
      "image/png": "[encoded data removed]",
      "text/plain": [
       "<matplotlib.figure.Figure at 0x1106c35d0>"
      ]
     },
     "metadata": {},
     "output_type": "display_data"
    }
   ],
   "source": [
    "%matplotlib inline\n",
    "import matplotlib.pyplot as plt\n",
    "import numpy as np\n",
    "\n",
    "sample = 448\n",
    "\n",
    "d = \"/Users/mtthieme/Documents/EchoPixel/sample_data/Brats17_TCIA_{0}_1/data/\".format(sample)\n",
    "#regulardir = \"/home/bduser/unet/data/slices/Results/\"\n",
    "#pred = np.load(save_dir + \"msks_test_predictions.npy\")\n",
    "msk_test = np.load(d + \"msks_test.npy\")\n",
    "msk_pred = np.load(d + \"msks_test_predictions.npy\")\n",
    "\n",
    "slices_max = [np.amax(msk_pred[x,:,:,0]) for x in range(len(msk_pred[0]))]\n",
    "max_slice = slices_max.index(np.amax(slices_max))\n",
    "print(\"Max of all slices = \", np.amax(slices_max))\n",
    "print(\"Max slice = \", slices_max.index(np.amax(slices_max)))\n",
    "\n",
    "#old_msk = np.load(regulardir + \"msks_test.npy\")\n",
    "#old_img = np.load(regulardir + \"imgs_test.npy\")\n",
    "\n",
    "slice = 75\n",
    "msk_channel = 3\n",
    "\n",
    "msk_img = msk_test[slice,:,:,0] + msk_test[slice,:,:,1] + msk_test[slice,:,:,2] + msk_test[slice,:,:,3]\n",
    "pred_img = msk_pred[slice,0,0,:,:,0]\n",
    "\n",
    "    \n",
    "\n",
    "#img_img = img[slice,:,:,1]\n",
    "\n",
    "print(\"msk amax\",np.amax(msk_img))\n",
    "print(\"pred amax\",np.amax(pred_img))\n",
    "#print(\"pred amax\",np.amax(pred_img))\n",
    "print(msk_test.shape)\n",
    "print(msk_pred.shape)\n",
    "\n",
    "#f, (ax1, ax2) = plt.subplots(1, 2, sharey=True)\n",
    "f, (ax1) = plt.subplots(1, 1, sharey=True)\n",
    "ax1.imshow(msk_img)\n",
    "#ax1.imshow(pred_img)\n",
    "#ax1.set_title(\"msk\")\n",
    "#ax2.imshow(pred_img)\n",
    "#ax2.set_title(\"pred\")\n",
    "#ax3.imshow(pred_img)\n",
    "#ax3.set_title(\"pred\")\n",
    "plt.show()\n",
    "\n",
    "f, (ax1) = plt.subplots(1, 1, sharey=True)\n",
    "ax1.imshow(pred_img)\n",
    "plt.show()"
   ]
  },
  {
   "cell_type": "code",
   "execution_count": 26,
   "metadata": {},
   "outputs": [
    {
     "data": {
      "image/png": "[encoded data removed]",
      "text/plain": [
       "<matplotlib.figure.Figure at 0x110bbd790>"
      ]
     },
     "metadata": {},
     "output_type": "display_data"
    }
   ],
   "source": []
  },
  {
   "cell_type": "code",
   "execution_count": null,
   "metadata": {},
   "outputs": [],
   "source": []
  }
 ],
 "metadata": {
  "kernelspec": {
   "display_name": "Python 2",
   "language": "python",
   "name": "python2"
  },
  "language_info": {
   "codemirror_mode": {
    "name": "ipython",
    "version": 2
   },
   "file_extension": ".py",
   "mimetype": "text/x-python",
   "name": "python",
   "nbconvert_exporter": "python",
   "pygments_lexer": "ipython2",
   "version": "2.7.14"
  }
 },
 "nbformat": 4,
 "nbformat_minor": 2
}
